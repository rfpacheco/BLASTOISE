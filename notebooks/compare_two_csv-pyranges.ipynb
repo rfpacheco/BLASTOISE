{
 "cells": [
  {
   "cell_type": "code",
   "id": "initial_id",
   "metadata": {
    "collapsed": true
   },
   "source": [
    "import pandas as pd\n",
    "import pyranges as pr\n",
    "\n",
    "# Load the datasets\n",
    "df1 = pd.read_csv('file1')\n",
    "df2 = pd.read_csv('file2')\n",
    "\n",
    "# Rename columns for PyRanges\n",
    "df1 = df1.rename(columns={'sseqid': 'Chromosome', 'sstart': 'Start', 'send': 'End', 'sstrand': 'Strand'})\n",
    "df2 = df2.rename(columns={'sseqid': 'Chromosome', 'sstart': 'Start', 'send': 'End', 'sstrand': 'Strand'})\n",
    "\n",
    "# Change plus to + and minus to - using map() function\n",
    "df1['Strand'] = df1['Strand'].map({'plus': '+', 'minus': '-'})\n",
    "df2['Strand'] = df2['Strand'].map({'plus': '+', 'minus': '-'})\n",
    "\n",
    "# Create PyRanges objects\n",
    "gr1 = pr.PyRanges(df1)\n",
    "gr2 = pr.PyRanges(df2)"
   ],
   "outputs": [],
   "execution_count": null
  },
  {
   "metadata": {},
   "cell_type": "code",
   "source": [
    "# Find overlaps\n",
    "overlaps = gr1.join(gr2)\n",
    "\n",
    "# Find exact matches by checking if the start and end coordinates are identical\n",
    "exact_matches = overlaps[\n",
    "    (overlaps.Start == overlaps.Start_b) &\n",
    "    (overlaps.End == overlaps.End_b)\n",
    "].df"
   ],
   "id": "375bd0a14fa5de98",
   "outputs": [],
   "execution_count": null
  },
  {
   "metadata": {},
   "cell_type": "code",
   "source": [
    "same_strand = exact_matches[exact_matches.Strand == exact_matches.Strand_b]\n",
    "print(\"Found {} exact matches on the same strand.\".format(len(same_strand)))\n",
    "same_strand"
   ],
   "id": "54ff24752edb4642",
   "outputs": [],
   "execution_count": null
  },
  {
   "metadata": {},
   "cell_type": "code",
   "source": [
    "different_strand = exact_matches[exact_matches.Strand != exact_matches.Strand_b]\n",
    "print(\"Found {} exact matches on a different strand.\".format(len(different_strand)))\n",
    "different_strand"
   ],
   "id": "73dfc4c7b204c42a",
   "outputs": [],
   "execution_count": null
  },
  {
   "metadata": {},
   "cell_type": "code",
   "source": [
    "# Filter out the exact matches from the overlaps\n",
    "overlapping_only = overlaps[\n",
    "    (overlaps.Start != overlaps.Start_b) |\n",
    "    (overlaps.End != overlaps.End_b)\n",
    "].df\n",
    "print(\"Found {} elements that overlap but are not exact matches.\".format(len(overlapping_only)))\n",
    "overlapping_only"
   ],
   "id": "1e805bae0f8b4e5",
   "outputs": [],
   "execution_count": null
  },
  {
   "metadata": {},
   "cell_type": "code",
   "source": [
    "# Use subtract to find regions in gr1 that do not overlap with gr2\n",
    "not_found = gr1.subtract(gr2).df\n",
    "print(\"Found {} elements from compare_test.csv that are not in compare_test2.csv.\".format(len(not_found)))\n",
    "not_found"
   ],
   "id": "834b65b5fc6ae3cb",
   "outputs": [],
   "execution_count": null
  }
 ],
 "metadata": {
  "kernelspec": {
   "display_name": "Python 3",
   "language": "python",
   "name": "python3"
  },
  "language_info": {
   "codemirror_mode": {
    "name": "ipython",
    "version": 2
   },
   "file_extension": ".py",
   "mimetype": "text/x-python",
   "name": "python",
   "nbconvert_exporter": "python",
   "pygments_lexer": "ipython2",
   "version": "2.7.6"
  }
 },
 "nbformat": 4,
 "nbformat_minor": 5
}
